{
 "cells": [
  {
   "cell_type": "code",
   "execution_count": 1,
   "id": "8db7f66d",
   "metadata": {},
   "outputs": [
    {
     "name": "stdout",
     "output_type": "stream",
     "text": [
      "enter a number: 56\n",
      "The number is positive\n"
     ]
    }
   ],
   "source": [
    "a=int(input(\"enter a number: \"))\n",
    "if a>0:\n",
    "    print(f\"The number is positive\")\n",
    "elif a<0:\n",
    "    print(\"the number is nagetive\")\n",
    "else:\n",
    "    print(\"The number is zero\")\n",
    "    "
   ]
  },
  {
   "cell_type": "code",
   "execution_count": 2,
   "id": "75b27767",
   "metadata": {},
   "outputs": [
    {
     "name": "stdout",
     "output_type": "stream",
     "text": [
      "Enter your age: 5\n",
      "You are not eligible for vote\n"
     ]
    }
   ],
   "source": [
    "age=int(input(\"Enter your age: \"))\n",
    "if age>=18:\n",
    "    print(\"Your are eligible for vote\")\n",
    "else:\n",
    "    print(\"You are not eligible for vote\")"
   ]
  },
  {
   "cell_type": "code",
   "execution_count": 3,
   "id": "a4643661",
   "metadata": {},
   "outputs": [
    {
     "name": "stdout",
     "output_type": "stream",
     "text": [
      "Enter the first number: 23\n",
      "Enter the second number: 99\n",
      "The maximum number is 99\n"
     ]
    }
   ],
   "source": [
    "n1=int(input(\"Enter the first number: \"))\n",
    "n2=int(input(\"Enter the second number: \"))\n",
    "if n1>n2:\n",
    "    print(f\"The maximum number is {n1}\")\n",
    "else:\n",
    "    print(f\"The maximum number is {n2}\")"
   ]
  },
  {
   "cell_type": "code",
   "execution_count": 5,
   "id": "4c26fc61",
   "metadata": {},
   "outputs": [
    {
     "name": "stdout",
     "output_type": "stream",
     "text": [
      "Enter the first number: 999\n",
      "Enter the second number: 86\n",
      "Enter the second number: 95\n",
      "The  largest number is 999\n"
     ]
    }
   ],
   "source": [
    "n1=int(input(\"Enter the first number: \"))\n",
    "n2=int(input(\"Enter the second number: \"))\n",
    "n3=int(input(\"Enter the second number: \"))\n",
    "if n1>n2 and n1>n3:\n",
    "    print(f\"The  largest number is {n1}\")\n",
    "elif n2>n1 and n2>n3:\n",
    "    print(f\"The  largest number is {n2}\")\n",
    "else:\n",
    "    print(f\"The  largest number is {n3}\")"
   ]
  },
  {
   "cell_type": "code",
   "execution_count": 6,
   "id": "dfef03f5",
   "metadata": {},
   "outputs": [
    {
     "name": "stdout",
     "output_type": "stream",
     "text": [
      "Enter the marks obtained in Bengali:10\n",
      "Enter the marks obtained in English:12\n",
      "Enter the marks obtained in Mathematics:24\n",
      "Enter the marks obtained in Computer:12\n",
      "The given marks obtained in Bengali: 10\n",
      "The given marks obtained in English: 12\n",
      "The given marks obtained in Mathematics: 24\n",
      "The given marks obtained in Computer: 12\n",
      "Your given score's grade is F\n"
     ]
    }
   ],
   "source": [
    "a=int(input(\"Enter the marks obtained in Bengali:\"))\n",
    "b=int(input(\"Enter the marks obtained in English:\"))\n",
    "c=int(input(\"Enter the marks obtained in Mathematics:\"))\n",
    "d=int(input(\"Enter the marks obtained in Computer:\"))\n",
    "print(\"The given marks obtained in Bengali:\",a)\n",
    "print(\"The given marks obtained in English:\",b)\n",
    "print(\"The given marks obtained in Mathematics:\",c)\n",
    "print(\"The given marks obtained in Computer:\",d)\n",
    "total=(a+b+c+d)\n",
    "avg=total/5\n",
    "if(avg>=91 and avg<=100):\n",
    "    print(\"Your given score's grade is A+\")\n",
    "elif(avg>=81 and avg<=91):\n",
    "    print(\"Your given score's grade is A\")\n",
    "elif(avg>=71 and avg<=81): \n",
    "    print(\"Your given score's grade is B+\")\n",
    "elif(avg>=61 and avg<=71):\n",
    "    print(\"Your given score's grade is B\")\n",
    "elif(avg>=51 and avg<=61): \n",
    "     print(\"Your given score's grade is C+\")\n",
    "elif(avg>=41 and avg<=51):\n",
    "    print(\"Your given score's grade is C\")\n",
    "elif(avg>=31 and avg<=41): \n",
    "    print(\"Your given score's grade is D\")\n",
    "elif(avg>=21 and avg<=31):\n",
    "    print(\"Your given score's grade is E\")\n",
    "elif(avg>=0 and avg<=21):  \n",
    "    print(\"Your given score's grade is F\")\n",
    "else:\n",
    "    print(\"Input Invalid\")"
   ]
  },
  {
   "cell_type": "code",
   "execution_count": 7,
   "id": "31581321",
   "metadata": {},
   "outputs": [
    {
     "name": "stdout",
     "output_type": "stream",
     "text": [
      "Enter the year: 2024\n",
      "The year is leapyear\n"
     ]
    }
   ],
   "source": [
    "year=int(input(\"Enter the year: \"))\n",
    "if year%400==0 or year%4==0 and year%100!=0:\n",
    "    print(\"The year is leapyear\")\n",
    "else:\n",
    "    print(\"The year is not leapyear\")"
   ]
  },
  {
   "cell_type": "code",
   "execution_count": 8,
   "id": "1a68f6b9",
   "metadata": {},
   "outputs": [
    {
     "name": "stdout",
     "output_type": "stream",
     "text": [
      "Enter the number: 34\n",
      "The number is even\n"
     ]
    }
   ],
   "source": [
    "a=int(input(\"Enter the number: \"))\n",
    "if a%2==0:\n",
    "    print(\"The number is even\")\n",
    "else:\n",
    "    print(\"The number is odd\")\n",
    "    \n",
    "    "
   ]
  },
  {
   "cell_type": "code",
   "execution_count": 9,
   "id": "9cd01c00",
   "metadata": {},
   "outputs": [
    {
     "name": "stdout",
     "output_type": "stream",
     "text": [
      "Enter a string value:sudip sardar\n",
      "In given string the vowels are: 4\n"
     ]
    }
   ],
   "source": [
    "s1=str(input(\"Enter a string value:\"))\n",
    "vowel=set(\"aeiouAEIOU\")\n",
    "count=0\n",
    "for i in s1:\n",
    "    if i in vowel:\n",
    "        count+=1\n",
    "print(\"In given string the vowels are:\",count)"
   ]
  },
  {
   "cell_type": "code",
   "execution_count": 7,
   "id": "68557724",
   "metadata": {},
   "outputs": [
    {
     "name": "stdout",
     "output_type": "stream",
     "text": [
      "In Triangle, enter the length of side L1 is:23\n",
      "In Triangle, enter the length of side L2 is:23\n",
      "In Triangle, enter the length of side L3 is:45\n",
      "Given triangle is Isosceles\n"
     ]
    }
   ],
   "source": [
    "L1=int(input(\"In Triangle, enter the length of side L1 is:\"))\n",
    "L2=int(input(\"In Triangle, enter the length of side L2 is:\"))\n",
    "L3=int(input(\"In Triangle, enter the length of side L3 is:\"))\n",
    "if(L1==L2 and L2==L3):\n",
    "    print(\"Given triangle is Equilateral\")\n",
    "elif(L1==L2 or L2==L3 or L1==L3):\n",
    "    print(\"Given triangle is Isosceles\")\n",
    "else:\n",
    "    print(\"Given triangle is Scalane\")\n",
    "    \n"
   ]
  },
  {
   "cell_type": "code",
   "execution_count": 8,
   "id": "d2edaaf7",
   "metadata": {},
   "outputs": [
    {
     "name": "stdout",
     "output_type": "stream",
     "text": [
      "Enter the purchase amount: 1500\n",
      "Original Price: ₹1500.00\n",
      "Discount Applied: 10.0%\n",
      "Discounted Price: ₹1350.00\n"
     ]
    }
   ],
   "source": [
    "amount = float(input(\"Enter the purchase amount: \"))\n",
    "discount = 0.0\n",
    "if amount >= 1000:\n",
    "    discount = 0.1\n",
    "elif amount >= 500:\n",
    "    discount = 0.05\n",
    "discounted_price = amount - (amount * discount)\n",
    "print(f\"Original Price: ₹{amount:.2f}\")\n",
    "print(f\"Discount Applied: {discount * 100}%\")\n",
    "print(f\"Discounted Price: ₹{discounted_price:.2f}\")"
   ]
  },
  {
   "cell_type": "code",
   "execution_count": 9,
   "id": "b7d89811",
   "metadata": {},
   "outputs": [
    {
     "name": "stdout",
     "output_type": "stream",
     "text": [
      "Enter the day number:5\n",
      "5 th is Thursday\n"
     ]
    }
   ],
   "source": [
    "day=int(input(\"Enter the day number:\"))\n",
    "if (day==1):\n",
    "    print(day,\"st is Sunday\")\n",
    "elif (day==2):\n",
    "    print(day,\"nd is Monday\")\n",
    "elif (day==3):\n",
    "    print(day,\"rd is Tuesday\")\n",
    "elif (day==4):\n",
    "    print(day,\"th is Wednesday\")\n",
    "elif (day==5):\n",
    "    print(day,\"th is Thursday\")\n",
    "elif (day==6):\n",
    "    print(day,\"th is Friday\")\n",
    "elif (day==7):\n",
    "    print(day,\"th is Saturday\")\n",
    "else :\n",
    "    print(\"Input Invalid\")"
   ]
  },
  {
   "cell_type": "code",
   "execution_count": 10,
   "id": "d5f3453e",
   "metadata": {},
   "outputs": [
    {
     "name": "stdout",
     "output_type": "stream",
     "text": [
      "Enter the number:5\n",
      "The factorial of the number: 120\n"
     ]
    }
   ],
   "source": [
    "n=int(input(\"Enter the number:\"))\n",
    "fact=1\n",
    "for i in range(n,0,-1):\n",
    "    fact=fact*i\n",
    "print(\"The factorial of the number:\",fact)"
   ]
  },
  {
   "cell_type": "code",
   "execution_count": 4,
   "id": "41759caf",
   "metadata": {},
   "outputs": [
    {
     "name": "stdout",
     "output_type": "stream",
     "text": [
      "Enter number of elements in list: 5\n",
      "Enter elements: 1\n",
      "Enter elements: 2\n",
      "Enter elements: 3\n",
      "Enter elements: 4\n",
      "Enter elements: 5\n",
      " sum of a list of numbers, excluding the smallest and largest values. is: 9\n"
     ]
    }
   ],
   "source": [
    "list1 = []\n",
    "count=len(list1)\n",
    "num = int(input(\"Enter number of elements in list: \"))\n",
    "for i in range(1, num + 1):\n",
    "    ele = int(input(\"Enter elements: \"))\n",
    "    list1.append(ele)\n",
    "c=max(list1)\n",
    "b=min(list1)\n",
    "d=sum(list1)\n",
    "e=d-(c+b)\n",
    "print(\" sum of a list of numbers, excluding the smallest and largest values. is:\", e)"
   ]
  },
  {
   "cell_type": "code",
   "execution_count": 1,
   "id": "72da1fff",
   "metadata": {},
   "outputs": [
    {
     "name": "stdout",
     "output_type": "stream",
     "text": [
      "Enter the string input:nayan\n",
      "nayan is a palindrome!\n"
     ]
    }
   ],
   "source": [
    "s=input(\"Enter the string input:\")\n",
    "rev=s[::-1]\n",
    "if list(s) == list(rev):\n",
    "    print(s,\"is a palindrome!\")\n",
    "else:\n",
    "    print(s,\"is nat a palindrome!\")"
   ]
  },
  {
   "cell_type": "code",
   "execution_count": 42,
   "id": "603ad743",
   "metadata": {},
   "outputs": [
    {
     "name": "stdout",
     "output_type": "stream",
     "text": [
      "Enter the first number:4\n",
      "Enter the second number:8\n",
      "Select your operation:\n",
      " 1 for addition \n",
      " 2 for subtraction \n",
      " 3 multiplication \n",
      " 4 for divition\n",
      "Enter choice of operation 1/2/3/4: 3\n",
      "The multiplication of given numbers,a*b= 32\n"
     ]
    }
   ],
   "source": [
    "a=int(input(\"Enter the first number:\"))\n",
    "b=int(input(\"Enter the second number:\"))\n",
    "print(\"Select your operation:\\n 1 for addition \\n 2 for subtraction \\n 3 multiplication \\n 4 for divition\")\n",
    "operation = str(input(\"Enter choice of operation 1/2/3/4: \"))\n",
    "if( operation==1 ):\n",
    " print(\"The addition of given numbers,a+b=\",a+b)\n",
    "elif( operation==2 ):\n",
    " print(\"The subtraction of given numbers,a-b=\",a-b)\n",
    "elif( operation==3 ):\n",
    " print(\"The multiplication of given numbers,a*b=\",a*b)\n",
    "elif( operation==4 ):\n",
    " print(\"The division of given numbers,a/b=\",a/b)\n",
    "else:\n",
    " print(\"operation is not exists\")"
   ]
  },
  {
   "cell_type": "code",
   "execution_count": 3,
   "id": "85b013f4",
   "metadata": {},
   "outputs": [
    {
     "name": "stdout",
     "output_type": "stream",
     "text": [
      "Enter the number of a:3\n",
      "Enter the number of b:4\n",
      "Enter the number of c:2\n",
      "Discriminant: -8\n",
      "Root 1: (-0.6666666666666666+0.47140452079103173j)\n",
      "Root 2: (-0.6666666666666666-0.47140452079103173j)\n",
      "Root Type: Complex Roots\n"
     ]
    }
   ],
   "source": [
    "import math\n",
    "a=int(input(\"Enter the number of a:\"))\n",
    "b=int(input(\"Enter the number of b:\"))\n",
    "c=int(input(\"Enter the number of c:\"))\n",
    "d = b**2 - 4*a*c\n",
    "if (d > 0):\n",
    "    r1 = (-b + math.sqrt(d)) / (2*a)\n",
    "    r2 = (-b - math.sqrt(d)) / (2*a)\n",
    "    root = \"Real and Distinct Roots\"\n",
    "elif (d == 0):\n",
    "    r1 = r2 = -b / (2*a)\n",
    "    root = \"Real and Equal Roots\"\n",
    "else:\n",
    "    real = -b / (2*a)\n",
    "    img = math.sqrt(abs(d)) / (2*a)\n",
    "    r1 = complex(real, img)\n",
    "    r2 = complex(real, -img)\n",
    "    root = \"Complex Roots\"\n",
    "print(f\"Discriminant: {d}\")\n",
    "print(f\"Root 1: {r1}\")\n",
    "print(f\"Root 2: {r2}\")\n",
    "print(f\"Root Type: {root}\")\n",
    " "
   ]
  },
  {
   "cell_type": "code",
   "execution_count": 3,
   "id": "d93cedbd",
   "metadata": {},
   "outputs": [
    {
     "name": "stdout",
     "output_type": "stream",
     "text": [
      "Enter the list:2,4,6,8,10\n",
      "The average of given list excluding smallest and largest number: 6.0\n"
     ]
    }
   ],
   "source": [
    "list = eval(input(\"Enter the list:\"))\n",
    "sum = 0\n",
    "maxvalue = max(list)\n",
    "minvalue = min(list)\n",
    "for x in range(len(list)):\n",
    "    sum += list[x]\n",
    "avg = (sum - maxvalue - minvalue) / (len(list) - 2)\n",
    "print(\"The average of given list excluding smallest and largest number:\", avg)"
   ]
  },
  {
   "cell_type": "code",
   "execution_count": 8,
   "id": "13e4e785",
   "metadata": {},
   "outputs": [
    {
     "name": "stdout",
     "output_type": "stream",
     "text": [
      "Enter your PIN number:4545\n",
      "Enter your amount:3000\n",
      "Your remaining balance: 18000\n"
     ]
    }
   ],
   "source": [
    "a=int(input(\"Enter your PIN number:\"))\n",
    "n=21000\n",
    "if(a==4545):\n",
    "  b=int(input(\"Enter your amount:\"))\n",
    "  print(\"Your remaining balance:\",n-b)\n",
    "elif(a==4646):\n",
    "  d=int(input(\"Enter your amount:\"))\n",
    "  print(\"Your remaining balance:\",n-d)        \n",
    "elif(a==4747):\n",
    "  g=int(input(\"Enter your amount:\"))\n",
    "  print(\"Your remaining balance:\",n-g)\n",
    "\n",
    "elif(a==4848):\n",
    "  f=int(input(\"Enter your amount:\"))\n",
    "  print(\"Your remaining balance:\",n-f)\n",
    "else:\n",
    "    print(\"Input invalid\")"
   ]
  },
  {
   "cell_type": "code",
   "execution_count": null,
   "id": "9d7f5232",
   "metadata": {},
   "outputs": [],
   "source": []
  }
 ],
 "metadata": {
  "kernelspec": {
   "display_name": "Python 3 (ipykernel)",
   "language": "python",
   "name": "python3"
  },
  "language_info": {
   "codemirror_mode": {
    "name": "ipython",
    "version": 3
   },
   "file_extension": ".py",
   "mimetype": "text/x-python",
   "name": "python",
   "nbconvert_exporter": "python",
   "pygments_lexer": "ipython3",
   "version": "3.11.4"
  }
 },
 "nbformat": 4,
 "nbformat_minor": 5
}
