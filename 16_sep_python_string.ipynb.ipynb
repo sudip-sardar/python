{
 "cells": [
  {
   "cell_type": "code",
   "execution_count": 3,
   "id": "9bec30b2",
   "metadata": {},
   "outputs": [
    {
     "name": "stdout",
     "output_type": "stream",
     "text": [
      "Enter the first number43\n",
      "Enter the second number56\n",
      "before swap the values are 43 56\n",
      "after swap the values are 56 43\n"
     ]
    }
   ],
   "source": [
    "a=int(input(\"Enter the first number\"))\n",
    "b=int(input(\"Enter the second number\"))\n",
    "print(\"before swap the values are\",a,b)\n",
    "a,b=b,a\n",
    "print(\"after swap the values are\",a,b)"
   ]
  },
  {
   "cell_type": "code",
   "execution_count": 2,
   "id": "5ee85b44",
   "metadata": {},
   "outputs": [
    {
     "name": "stdout",
     "output_type": "stream",
     "text": [
      "Enter the length of the rectangle24\n",
      "Enter the width of the rectangle14\n",
      "The area of the rectangle is 336\n"
     ]
    }
   ],
   "source": [
    "l=int(input(\"Enter the length of the rectangle\"))\n",
    "w=int(input(\"Enter the width of the rectangle\"))\n",
    "area=l*w\n",
    "print(\"The area of the rectangle is\",area)"
   ]
  },
  {
   "cell_type": "code",
   "execution_count": 3,
   "id": "bbc6311e",
   "metadata": {},
   "outputs": [
    {
     "name": "stdout",
     "output_type": "stream",
     "text": [
      "value of the temperature in celcius:32\n",
      "The fahrenheit value is: 89.6\n"
     ]
    }
   ],
   "source": [
    "c=int(input(\"value of the temperature in celcius:\"))\n",
    "f=((c*9/5)+32)\n",
    "print(\"The fahrenheit value is:\",f)\n"
   ]
  },
  {
   "cell_type": "code",
   "execution_count": 5,
   "id": "9e0e4007",
   "metadata": {},
   "outputs": [
    {
     "name": "stdout",
     "output_type": "stream",
     "text": [
      "12\n"
     ]
    }
   ],
   "source": [
    "s1=\"sudip sardar\"\n",
    "print(len(s1))"
   ]
  },
  {
   "cell_type": "code",
   "execution_count": 13,
   "id": "9c547473",
   "metadata": {},
   "outputs": [
    {
     "name": "stdout",
     "output_type": "stream",
     "text": [
      "Enter a string:nayan\n",
      "PALINDROME !\n"
     ]
    }
   ],
   "source": [
    "s1=input(\"Enter a string:\")\n",
    "rev=s1[::-1]\n",
    "if list(s1) == list(rev):  \n",
    "   print(\"PALINDROME !\")  \n",
    "else:  \n",
    "   print(\"NOT PALINDROME !\")  "
   ]
  },
  {
   "cell_type": "code",
   "execution_count": 12,
   "id": "b96ba409",
   "metadata": {},
   "outputs": [
    {
     "name": "stdout",
     "output_type": "stream",
     "text": [
      "Enter a string:sudip\n",
      "the reverse string is: pidus\n"
     ]
    }
   ],
   "source": [
    "s1=input(\"Enter a string:\")\n",
    "rev=s1[::-1]\n",
    "print(\"the reverse string is:\",rev)"
   ]
  },
  {
   "cell_type": "code",
   "execution_count": 19,
   "id": "4c318edd",
   "metadata": {},
   "outputs": [
    {
     "name": "stdout",
     "output_type": "stream",
     "text": [
      "Enter a string:sudip santanu kamol\n",
      "Without space string: sudipsantanukamol\n"
     ]
    }
   ],
   "source": [
    "s1=str(input(\"Enter a string:\"))\n",
    "sp=s1.replace(\" \",\"\")\n",
    "print(\"Without space string:\",sp)"
   ]
  },
  {
   "cell_type": "code",
   "execution_count": 22,
   "id": "41b3aac8",
   "metadata": {},
   "outputs": [
    {
     "name": "stdout",
     "output_type": "stream",
     "text": [
      "Enter a string value:sudip\n",
      "In given string the vowels are: 0\n",
      "In given string the vowels are: 0\n",
      "In given string the vowels are: 0\n",
      "In given string the vowels are: 0\n",
      "In given string the vowels are: 0\n"
     ]
    }
   ],
   "source": [
    "s1=str(input(\"Enter a string value:\"))\n",
    "vowel=set(\"aeiouAEIOU\")\n",
    "count=0\n",
    "for i in s1:\n",
    "    if i in vowel:\n",
    "        count+=1\n",
    "    print(\"In given string the vowels are:\",count)"
   ]
  },
  {
   "cell_type": "code",
   "execution_count": null,
   "id": "d0bcb195",
   "metadata": {},
   "outputs": [],
   "source": []
  }
 ],
 "metadata": {
  "kernelspec": {
   "display_name": "Python 3 (ipykernel)",
   "language": "python",
   "name": "python3"
  },
  "language_info": {
   "codemirror_mode": {
    "name": "ipython",
    "version": 3
   },
   "file_extension": ".py",
   "mimetype": "text/x-python",
   "name": "python",
   "nbconvert_exporter": "python",
   "pygments_lexer": "ipython3",
   "version": "3.11.4"
  }
 },
 "nbformat": 4,
 "nbformat_minor": 5
}
